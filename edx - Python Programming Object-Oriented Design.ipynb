{
 "cells": [
  {
   "cell_type": "markdown",
   "source": [
    "This notebook describes the learnings from the edx course \"Python Programming: Object-Oriented Design\"\n",
    "https://learning.edx.org/course/course-v1:Codio+python3.1+1T2023/home"
   ],
   "metadata": {
    "collapsed": false,
    "pycharm": {
     "name": "#%% md\n"
    }
   }
  },
  {
   "cell_type": "markdown",
   "source": [
    "Introduction to Objects"
   ],
   "metadata": {
    "collapsed": false,
    "pycharm": {
     "name": "#%% md\n"
    }
   }
  },
  {
   "cell_type": "markdown",
   "source": [
    "Classes & Objects\n",
    "\n",
    "Specialized vocabulary\n",
    "\n",
    "- Classes: A collection of data and the actions that can modify the data\n",
    "- Objects: Constructed according to the blueprint that is the class\n",
    "- Instance: An object is an instance of a particular class\n",
    "- Instantiation: Process where an object is created according to the blueprint of the class (similar to \"defining a variable\" for variables)"
   ],
   "metadata": {
    "collapsed": false,
    "pycharm": {
     "name": "#%% md\n"
    }
   }
  },
  {
   "cell_type": "code",
   "execution_count": 1,
   "outputs": [],
   "source": [
    "class Actor:\n",
    "    pass\n",
    "\n",
    "helen = Actor()"
   ],
   "metadata": {
    "collapsed": false,
    "pycharm": {
     "name": "#%%\n"
    }
   }
  },
  {
   "cell_type": "markdown",
   "source": [
    "-> helen is an object and an instance of the Actor class.\n",
    "\n",
    "Adding attributes"
   ],
   "metadata": {
    "collapsed": false,
    "pycharm": {
     "name": "#%% md\n"
    }
   }
  },
  {
   "cell_type": "code",
   "execution_count": 2,
   "outputs": [
    {
     "name": "stdout",
     "output_type": "stream",
     "text": [
      "Helen Mirren\n"
     ]
    }
   ],
   "source": [
    "class Actor:\n",
    "    pass\n",
    "helen = Actor()\n",
    "helen.first_name = \"Helen\"\n",
    "helen.last_name = \"Mirren\"\n",
    "print(helen.first_name, helen.last_name)"
   ],
   "metadata": {
    "collapsed": false,
    "pycharm": {
     "name": "#%%\n"
    }
   }
  },
  {
   "cell_type": "markdown",
   "source": [
    "-> Risk of too much code, as you'd have to do it for every instance separately\n",
    "\n",
    "The Constructor and Parameters, Default Parameters, Class Attributes"
   ],
   "metadata": {
    "collapsed": false,
    "pycharm": {
     "name": "#%% md\n"
    }
   }
  },
  {
   "cell_type": "code",
   "execution_count": 3,
   "outputs": [
    {
     "name": "stdout",
     "output_type": "stream",
     "text": [
      "Helen won 1 oscar(s).\n",
      "Tom won 0 oscar(s).\n",
      "\n",
      "Assign Class Attributes\n",
      "Helen Mirren is a member of the Screen Actors Guild.\n",
      "Tom Hanks is a member of the Screen Actors Guild.\n",
      "\n",
      "Changing tom's union to Teamsters\n",
      "Helen Mirren is a member of the Screen Actors Guild.\n",
      "Tom Hanks is a member of the Teamsters.\n"
     ]
    }
   ],
   "source": [
    "class Actor:\n",
    "    \"\"\"Define the actor class\"\"\"\n",
    "    union = \"Screen Actors Guild\" # Class attributes\n",
    "    def __init__(self, # The Constructor\n",
    "                 first_name, last_name, birthday, total_films,  # Parameters\n",
    "                 oscar_nominations=0, oscar_wins=0): # Default Parameters\n",
    "        self.first_name = first_name\n",
    "        self.last_name = last_name\n",
    "        self.birthday = birthday\n",
    "        self.total_films = total_films\n",
    "        self.oscar_nominations = oscar_nominations\n",
    "        self.oscar_wins = oscar_wins\n",
    "\n",
    "helen = Actor(\"Helen\", \"Mirren\", \"July 26\", 80, 4, 1)\n",
    "tom = Actor(\"Tom\", \"Hanks\", \"July 9\", 76)\n",
    "print(f'{helen.first_name} won {helen.oscar_wins} oscar(s).')\n",
    "print(f'{tom.first_name} won {tom.oscar_wins} oscar(s).')\n",
    "\n",
    "print(\"\\nAssign Class Attributes\")\n",
    "print(\"{} {} is a member of the {}.\".format(helen.first_name,\n",
    "helen.last_name, helen.union))\n",
    "print(\"{} {} is a member of the {}.\".format(tom.first_name,\n",
    "tom.last_name, tom.union))\n",
    "\n",
    "print(\"\\nChanging tom's union to Teamsters\")\n",
    "tom.union = \"Teamsters\"\n",
    "print(\"{} {} is a member of the {}.\".format(helen.first_name,\n",
    "helen.last_name, helen.union))\n",
    "print(\"{} {} is a member of the {}.\".format(tom.first_name,\n",
    "tom.last_name, tom.union))"
   ],
   "metadata": {
    "collapsed": false,
    "pycharm": {
     "name": "#%%\n"
    }
   }
  },
  {
   "cell_type": "markdown",
   "source": [
    "Shallow copy"
   ],
   "metadata": {
    "collapsed": false,
    "pycharm": {
     "name": "#%% md\n"
    }
   }
  },
  {
   "cell_type": "code",
   "execution_count": 4,
   "outputs": [
    {
     "name": "stdout",
     "output_type": "stream",
     "text": [
      "Hobbes\n",
      "Hobbes\n"
     ]
    }
   ],
   "source": [
    "class ComicBookCharacter:\n",
    "    def __init__(self): # Default Parameters\n",
    "        self.name = \"Calvin\"\n",
    "    pass\n",
    "a = ComicBookCharacter()\n",
    "b = a\n",
    "b.name = \"Hobbes\"\n",
    "print(a.name)\n",
    "print(b.name)"
   ],
   "metadata": {
    "collapsed": false,
    "pycharm": {
     "name": "#%%\n"
    }
   }
  },
  {
   "cell_type": "markdown",
   "source": [
    "Deep copy"
   ],
   "metadata": {
    "collapsed": false,
    "pycharm": {
     "name": "#%% md\n"
    }
   }
  },
  {
   "cell_type": "code",
   "execution_count": 5,
   "outputs": [
    {
     "name": "stdout",
     "output_type": "stream",
     "text": [
      "Calvin\n",
      "Hobbes\n"
     ]
    }
   ],
   "source": [
    "import copy\n",
    "class ComicBookCharacter:\n",
    "    def __init__(self): # Default Parameters\n",
    "        self.name = \"Calvin\"\n",
    "    pass\n",
    "a = ComicBookCharacter()\n",
    "b = copy.deepcopy(a)\n",
    "b.name = \"Hobbes\"\n",
    "print(a.name)\n",
    "print(b.name)"
   ],
   "metadata": {
    "collapsed": false,
    "pycharm": {
     "name": "#%%\n"
    }
   }
  },
  {
   "cell_type": "markdown",
   "source": [],
   "metadata": {
    "collapsed": false,
    "pycharm": {
     "name": "#%% md\n"
    }
   }
  },
  {
   "cell_type": "markdown",
   "source": [
    "Mutability\n",
    "\n",
    "Mutability: Objects (specifically their attributes) can change value"
   ],
   "metadata": {
    "collapsed": false,
    "pycharm": {
     "name": "#%% md\n"
    }
   }
  },
  {
   "cell_type": "code",
   "execution_count": 6,
   "outputs": [
    {
     "name": "stdout",
     "output_type": "stream",
     "text": [
      "This player has 100 health, a score of 0, and is on level 1.\n",
      "This player has 90 health, a score of 25, and is on level 2.\n"
     ]
    }
   ],
   "source": [
    "class Player:\n",
    "  \"\"\"Simple player class\"\"\"\n",
    "  def __init__(self, health=100, score=0, level=1):\n",
    "    self.health = health\n",
    "    self.score = score\n",
    "    self.level = level\n",
    "    \n",
    "player1 = Player()\n",
    "print(f\"This player has {player1.health} health, a score of {player1.score}, and is on level {player1.level}.\")\n",
    "player1.health -= 10\n",
    "player1.score += 25\n",
    "player1.level += 1\n",
    "print(f\"This player has {player1.health} health, a score of {player1.score}, and is on level {player1.level}.\")"
   ],
   "metadata": {
    "collapsed": false,
    "pycharm": {
     "name": "#%%\n"
    }
   }
  },
  {
   "cell_type": "markdown",
   "source": [],
   "metadata": {
    "collapsed": false,
    "pycharm": {
     "name": "#%% md\n"
    }
   }
  },
  {
   "cell_type": "markdown",
   "source": [
    "Changing Objects with Functions"
   ],
   "metadata": {
    "collapsed": false,
    "pycharm": {
     "name": "#%% md\n"
    }
   }
  },
  {
   "cell_type": "code",
   "execution_count": 7,
   "outputs": [
    {
     "name": "stdout",
     "output_type": "stream",
     "text": [
      "This player has 100 health, a score of 0, and is on level 1.\n",
      "Now leveling up\n",
      "This player has 90 health, a score of 25, and is on level 2.\n"
     ]
    }
   ],
   "source": [
    "class Player:\n",
    "  \"\"\"Simple player class\"\"\"\n",
    "  def __init__(self, health=100, score=0, level=1):\n",
    "    self.health = health\n",
    "    self.score = score\n",
    "    self.level = level\n",
    "def print_player(p): # Function\n",
    "  \"\"\"Print the status of a player\"\"\"\n",
    "  print(f\"This player has {p.health} health, a score of {p.score}, and is on level {p.level}.\")\n",
    "def level_up(p): # Function\n",
    "    print('Now leveling up')\n",
    "    p.health -= 10\n",
    "    p.score += 25\n",
    "    p.level += 1\n",
    "    return p\n",
    "player1 = Player()\n",
    "print_player(player1)\n",
    "level_up(player1) # Changing object with function\n",
    "print_player(player1)"
   ],
   "metadata": {
    "collapsed": false,
    "pycharm": {
     "name": "#%%\n"
    }
   }
  },
  {
   "cell_type": "markdown",
   "source": [],
   "metadata": {
    "collapsed": false,
    "pycharm": {
     "name": "#%% md\n"
    }
   }
  },
  {
   "cell_type": "markdown",
   "source": [
    "Changing Objects with Methods"
   ],
   "metadata": {
    "collapsed": false,
    "pycharm": {
     "name": "#%% md\n"
    }
   }
  },
  {
   "cell_type": "code",
   "execution_count": 8,
   "outputs": [
    {
     "name": "stdout",
     "output_type": "stream",
     "text": [
      "This player has 100 health, a score of 0, and is on level 1.\n",
      "Now leveling up\n",
      "This player has 90 health, a score of 25, and is on level 2.\n"
     ]
    }
   ],
   "source": [
    "class Player:\n",
    "    \"\"\"Simple player class\"\"\"\n",
    "    def __init__(self, health=100, score=0, level=1):\n",
    "        self.health = health\n",
    "        self.score = score\n",
    "        self.level = level\n",
    "    def print_player(self): # Method\n",
    "        \"\"\"Print the status of a player\"\"\"\n",
    "        print(f\"This player has {self.health} health, a score of {self.score}, and is on level {self.level}.\")\n",
    "    def level_up(self): # Method\n",
    "        print('Now leveling up')\n",
    "        self.health -= 10\n",
    "        self.score += 25\n",
    "        self.level += 1\n",
    "        return self\n",
    "player1 = Player()\n",
    "player1.print_player()\n",
    "player1.level_up() # Changing object with method\n",
    "player1.print_player()"
   ],
   "metadata": {
    "collapsed": false,
    "pycharm": {
     "name": "#%%\n"
    }
   }
  },
  {
   "cell_type": "markdown",
   "source": [],
   "metadata": {
    "collapsed": false,
    "pycharm": {
     "name": "#%% md\n"
    }
   }
  },
  {
   "cell_type": "markdown",
   "source": [
    "Class & Static Methods\n",
    "\n",
    "Class Method: Method that has access to the class, but not the object instance. Changing (class) variables this way changes them for all instances of this class.\n"
   ],
   "metadata": {
    "collapsed": false,
    "pycharm": {
     "name": "#%% md\n"
    }
   }
  },
  {
   "cell_type": "code",
   "execution_count": 9,
   "outputs": [
    {
     "name": "stdout",
     "output_type": "stream",
     "text": [
      "199000000\n",
      "199000000\n"
     ]
    }
   ],
   "source": [
    "class NFLteam:\n",
    "    \"\"\"Define the NFL team class\"\"\"\n",
    "    salary_cap = 198200000\n",
    "    def __init__(self, city, name):\n",
    "        self.city = city\n",
    "        self.name = name\n",
    "        \n",
    "    @classmethod\n",
    "    def change_salary_cap(cls, new_cap):\n",
    "        cls.salary_cap = new_cap\n",
    "        \n",
    "team_1 = NFLteam(\"Cincinnati\", \"Bengals\")\n",
    "team_2 = NFLteam(\"New England\", \"Patriots\")\n",
    "NFLteam.change_salary_cap(199000000)\n",
    "print(team_1.salary_cap)\n",
    "print(team_2.salary_cap)"
   ],
   "metadata": {
    "collapsed": false,
    "pycharm": {
     "name": "#%%\n"
    }
   }
  },
  {
   "cell_type": "markdown",
   "source": [
    "Factory Methods: Alternate Constructor"
   ],
   "metadata": {
    "collapsed": false,
    "pycharm": {
     "name": "#%% md\n"
    }
   }
  },
  {
   "cell_type": "code",
   "execution_count": 10,
   "outputs": [
    {
     "name": "stdout",
     "output_type": "stream",
     "text": [
      "['tomato sauce', 'mozzarella', 'basil']\n"
     ]
    }
   ],
   "source": [
    "class Pizza:\n",
    "  \"\"\"Pizza class with a list of toppings\"\"\"\n",
    "  def __init__(self, toppings):\n",
    "    self.toppings= toppings\n",
    "    \n",
    "  @classmethod\n",
    "  def make_margherita(cls):\n",
    "    return Pizza([\"tomato sauce\", \"mozzarella\", \"basil\"])\n",
    "    \n",
    "my_pizza = Pizza.make_margherita()\n",
    "print(my_pizza.toppings)\n"
   ],
   "metadata": {
    "collapsed": false,
    "pycharm": {
     "name": "#%%\n"
    }
   }
  },
  {
   "cell_type": "markdown",
   "source": [
    "Static Methods\n",
    "\n",
    "Static Methods: Used to add functionality to a class. They do not require a special parameter self or cls.\n"
   ],
   "metadata": {
    "collapsed": false,
    "pycharm": {
     "name": "#%% md\n"
    }
   }
  },
  {
   "cell_type": "code",
   "execution_count": 11,
   "outputs": [
    {
     "name": "stdout",
     "output_type": "stream",
     "text": [
      "351\n"
     ]
    }
   ],
   "source": [
    "class Rectangle:\n",
    "  \"\"\"Rectangle class\"\"\"\n",
    "  def __init__(self, l, w):\n",
    "    self.length = l\n",
    "    self.width= w\n",
    "    \n",
    "  def area(self):\n",
    "    \"\"\"Calculate the area of the rectangle\"\"\"\n",
    "    return self.length * self.width\n",
    "  \n",
    "  @staticmethod\n",
    "  def combined_area(r1, r2):\n",
    "    \"\"\"Find combined area of two rectangles\"\"\"\n",
    "    return r1.area() + r2.area()\n",
    "  \n",
    "rect_1 = Rectangle(12, 27)\n",
    "rect_2 = Rectangle(9, 3)\n",
    "combined_area = Rectangle.combined_area(rect_1, rect_2)\n",
    "print(combined_area)"
   ],
   "metadata": {
    "collapsed": false,
    "pycharm": {
     "name": "#%%\n"
    }
   }
  },
  {
   "cell_type": "markdown",
   "source": [],
   "metadata": {
    "collapsed": false,
    "pycharm": {
     "name": "#%% md\n"
    }
   }
  },
  {
   "cell_type": "markdown",
   "source": [
    "Encapsulation"
   ],
   "metadata": {
    "collapsed": false,
    "pycharm": {
     "name": "#%% md\n"
    }
   }
  },
  {
   "cell_type": "markdown",
   "source": [
    "Introduction to Encapsulation\n",
    "\n",
    "Encapsulation: Related data and methods are grouped together, with restricted access to the data\n",
    "- Public: The attribute or method can be accessed by an instance of a class\n",
    "- Private: The attribute or method can only be accessed by the class itself\n",
    "\n",
    "Encapsulation through convention:\n",
    "- _attribute or _method: private but not enforced\n",
    "- attribute or method: public\n",
    "\n",
    "Private attributes:\n",
    "- __attribute or __method: private and enforced\n",
    "\n",
    "This is \"enforced\" though that was not the purpose. The purpose was to avoid name collisions, under the hood \"__attribute\" would get renamed to \"_Class__attribute\" and this one is private but not enforced.\n"
   ],
   "metadata": {
    "collapsed": false,
    "pycharm": {
     "name": "#%% md\n"
    }
   }
  },
  {
   "cell_type": "markdown",
   "source": [
    "Getters & Setters\n",
    "\n",
    "Assume that _attributes and _methods are considered private, a way to still give other code opportunity to change them, you can use getters and setters:\n",
    "- Getters: Used to present \"private\" attributes to the code\n",
    "- Setters: Used to change \"private\" attributes, but with the opportunity to do manipulations or add restrictions\n",
    "\n",
    "Property decorator\n",
    "\n",
    "Property class: Allows Python programmers to use getters and setters in a pythonic way (not using underscore, which is private and should not be called)."
   ],
   "metadata": {
    "collapsed": false,
    "pycharm": {
     "name": "#%% md\n"
    }
   }
  },
  {
   "cell_type": "code",
   "execution_count": 12,
   "outputs": [
    {
     "name": "stdout",
     "output_type": "stream",
     "text": [
      "Calvin\n"
     ]
    }
   ],
   "source": [
    "class Person:\n",
    "  def __init__(self, name):\n",
    "    self._name = name\n",
    "  \n",
    "  @property # Getter with Property Decorator\n",
    "  def name(self):\n",
    "    return self._name\n",
    "  \n",
    "  @name.setter # Setter with the Property Decorator\n",
    "  def age(self, new_name):\n",
    "    if new_name != '': # Added restrictions\n",
    "      raise ValueError(\"Name cannot be empty.\")\n",
    "    self._name = new_name\n",
    "  \n",
    "c = Person(\"Calvin\")\n",
    "print(c.name) # Note: this is not print(c.name()), which is un-pythonic"
   ],
   "metadata": {
    "collapsed": false,
    "pycharm": {
     "name": "#%%\n"
    }
   }
  },
  {
   "cell_type": "markdown",
   "source": [
    "Getters and Setters with the Property function"
   ],
   "metadata": {
    "collapsed": false,
    "pycharm": {
     "name": "#%% md\n"
    }
   }
  },
  {
   "cell_type": "code",
   "execution_count": 13,
   "outputs": [
    {
     "name": "stdout",
     "output_type": "stream",
     "text": [
      "Calvin\n",
      "Hobbes\n"
     ]
    }
   ],
   "source": [
    "class Person:\n",
    "  def __init__(self, name):\n",
    "    self._name = name\n",
    "  def get_name(self):\n",
    "    return self._name\n",
    "  name = property(get_name)\n",
    "  def set_name(self, new_name):\n",
    "    self._name = new_name\n",
    "  name = property(get_name, set_name)\n",
    "\n",
    "c = Person(\"Calvin\")\n",
    "print(c.name)\n",
    "c.name = \"Hobbes\"\n",
    "print(c.name)"
   ],
   "metadata": {
    "collapsed": false,
    "pycharm": {
     "name": "#%%\n"
    }
   }
  },
  {
   "cell_type": "markdown",
   "source": [],
   "metadata": {
    "collapsed": false,
    "pycharm": {
     "name": "#%% md\n"
    }
   }
  },
  {
   "cell_type": "markdown",
   "source": [
    "Inheritance"
   ],
   "metadata": {
    "collapsed": false,
    "pycharm": {
     "name": "#%% md\n"
    }
   }
  },
  {
   "cell_type": "markdown",
   "source": [
    "Parent & Child Classes\n",
    "\n",
    "What is Inheritance?\n",
    "\n",
    "Inheritance: One class copies the attributes and methods from another class"
   ],
   "metadata": {
    "collapsed": false,
    "pycharm": {
     "name": "#%% md\n"
    }
   }
  },
  {
   "cell_type": "code",
   "execution_count": 14,
   "outputs": [
    {
     "name": "stdout",
     "output_type": "stream",
     "text": [
      "Jessica Jones\n",
      "private investigator\n"
     ]
    }
   ],
   "source": [
    "class Person:\n",
    "  def __init__(self, name, age, occupation):\n",
    "    self.name = name\n",
    "    self.age = age\n",
    "    self.occupation = occupation\n",
    "  def say_hello(self):\n",
    "      print('hello')\n",
    "\n",
    "class Superhero(Person):\n",
    "  pass\n",
    "\n",
    "hero = Superhero(\"Jessica Jones\", 29, \"private investigator\")\n",
    "print(hero.name)\n",
    "print(hero.occupation)"
   ],
   "metadata": {
    "collapsed": false,
    "pycharm": {
     "name": "#%%\n"
    }
   }
  },
  {
   "cell_type": "markdown",
   "source": [
    "You can visualize inheritance this way:"
   ],
   "metadata": {
    "collapsed": false,
    "pycharm": {
     "name": "#%% md\n"
    }
   }
  },
  {
   "cell_type": "code",
   "execution_count": 15,
   "outputs": [
    {
     "name": "stdout",
     "output_type": "stream",
     "text": [
      "Help on class Superhero in module __main__:\n",
      "\n",
      "class Superhero(Person)\n",
      " |  Superhero(name, age, occupation)\n",
      " |  \n",
      " |  Method resolution order:\n",
      " |      Superhero\n",
      " |      Person\n",
      " |      builtins.object\n",
      " |  \n",
      " |  Methods inherited from Person:\n",
      " |  \n",
      " |  __init__(self, name, age, occupation)\n",
      " |      Initialize self.  See help(type(self)) for accurate signature.\n",
      " |  \n",
      " |  say_hello(self)\n",
      " |  \n",
      " |  ----------------------------------------------------------------------\n",
      " |  Data descriptors inherited from Person:\n",
      " |  \n",
      " |  __dict__\n",
      " |      dictionary for instance variables (if defined)\n",
      " |  \n",
      " |  __weakref__\n",
      " |      list of weak references to the object (if defined)\n",
      "\n",
      "None\n"
     ]
    }
   ],
   "source": [
    "print(help(Superhero))"
   ],
   "metadata": {
    "collapsed": false,
    "pycharm": {
     "name": "#%%\n"
    }
   }
  },
  {
   "cell_type": "markdown",
   "source": [
    "Super\n",
    "\n",
    "super(): Keyword to call a method from the parent class"
   ],
   "metadata": {
    "collapsed": false,
    "pycharm": {
     "name": "#%% md\n"
    }
   }
  },
  {
   "cell_type": "code",
   "execution_count": 16,
   "outputs": [
    {
     "name": "stdout",
     "output_type": "stream",
     "text": [
      "hello\n"
     ]
    }
   ],
   "source": [
    "class Superhero(Person):\n",
    "  def say_hello(self):\n",
    "    super().say_hello()\n",
    "    \n",
    "hero = Superhero(\"Wonder Woman\", 27, \"intelligence officer\")\n",
    "hero.say_hello()"
   ],
   "metadata": {
    "collapsed": false,
    "pycharm": {
     "name": "#%%\n"
    }
   }
  },
  {
   "cell_type": "markdown",
   "source": [
    "Super and __init__ can be used together to get init inheritance. Note that when using super().__init__, no self keyword is used."
   ],
   "metadata": {
    "collapsed": false,
    "pycharm": {
     "name": "#%% md\n"
    }
   }
  },
  {
   "cell_type": "code",
   "execution_count": 17,
   "outputs": [
    {
     "name": "stdout",
     "output_type": "stream",
     "text": [
      "Batman\n"
     ]
    }
   ],
   "source": [
    "class Superhero(Person):\n",
    "  def __init__(self, name, age, occupation):\n",
    "    super().__init__(name, age, occupation)\n",
    "    \n",
    "hero = Superhero(\"Batman\", 32, \"CEO\")\n",
    "print(hero.name)"
   ],
   "metadata": {
    "collapsed": false,
    "pycharm": {
     "name": "#%%\n"
    }
   }
  },
  {
   "cell_type": "markdown",
   "source": [
    "Inheritance hierarchy"
   ],
   "metadata": {
    "collapsed": false,
    "pycharm": {
     "name": "#%% md\n"
    }
   }
  },
  {
   "cell_type": "code",
   "execution_count": 18,
   "outputs": [
    {
     "name": "stdout",
     "output_type": "stream",
     "text": [
      "True\n"
     ]
    }
   ],
   "source": [
    "print(isinstance(hero, Superhero))"
   ],
   "metadata": {
    "collapsed": false,
    "pycharm": {
     "name": "#%%\n"
    }
   }
  },
  {
   "cell_type": "code",
   "execution_count": 19,
   "outputs": [
    {
     "name": "stdout",
     "output_type": "stream",
     "text": [
      "False\n",
      "True\n"
     ]
    }
   ],
   "source": [
    "print(issubclass(Person, Superhero))\n",
    "print(issubclass(Superhero, Person))"
   ],
   "metadata": {
    "collapsed": false,
    "pycharm": {
     "name": "#%%\n"
    }
   }
  },
  {
   "cell_type": "markdown",
   "source": [
    "Extending & Overwriting\n",
    "\n",
    "Extending a class\n",
    "\n",
    "Extending a class can be done with attributes or methods. When extending a class using other attributes (superhero has an extra attribute over the shared Person attributes), inheritance is a one-way street."
   ],
   "metadata": {
    "collapsed": false,
    "pycharm": {
     "name": "#%% md\n"
    }
   }
  },
  {
   "cell_type": "code",
   "execution_count": 20,
   "outputs": [
    {
     "name": "stdout",
     "output_type": "stream",
     "text": [
      "Spider-Man\n",
      "Harold\n",
      "Peter Parker\n",
      "Error: 'Person' object has no attribute 'secret_identity'\n",
      "My real name is Peter Parker.\n",
      "None\n"
     ]
    }
   ],
   "source": [
    "harold = Person(\"Harold\", 19, \"Butcher\")\n",
    "class Superhero(Person):\n",
    "  def __init__(self, name, age, occupation, secret_identity):\n",
    "    super().__init__(name, age, occupation)\n",
    "    self.secret_identity = secret_identity\n",
    "      \n",
    "  def reveal_secret_identity(self):\n",
    "    print(f\"My real name is {self.secret_identity}.\")\n",
    "\n",
    "hero = Superhero(\"Spider-Man\", 17, \"student\", \"Peter Parker\")\n",
    "print(hero.name)\n",
    "print(harold.name)\n",
    "print(hero.secret_identity)\n",
    "try:\n",
    "    print(harold.secret_identity)\n",
    "except Exception as e:\n",
    "    print('Error:', str(e))\n",
    "print(hero.reveal_secret_identity())"
   ],
   "metadata": {
    "collapsed": false,
    "pycharm": {
     "name": "#%%\n"
    }
   }
  },
  {
   "cell_type": "markdown",
   "source": [
    "Method Overriding"
   ],
   "metadata": {
    "collapsed": false,
    "pycharm": {
     "name": "#%% md\n"
    }
   }
  },
  {
   "cell_type": "code",
   "execution_count": 21,
   "outputs": [
    {
     "name": "stdout",
     "output_type": "stream",
     "text": [
      "I am Harold, and I like the police.\n",
      "I am Spider-Man, and criminals fear me.\n",
      "I am Spider-Man, and I like the police.\n"
     ]
    }
   ],
   "source": [
    "class Person:\n",
    "  def __init__(self, name, age, occupation):\n",
    "    self.name = name\n",
    "    self.age = age\n",
    "    self.occupation = occupation\n",
    "  def say_hello(self):\n",
    "    print(f\"I am {self.name}, and I like the police.\")\n",
    "\n",
    "class Superhero(Person):\n",
    "  def __init__(self, name, age, occupation,):\n",
    "    super().__init__(name, age, occupation)\n",
    "\n",
    "  def say_hello(self):\n",
    "    print(f\"I am {self.name}, and criminals fear me.\")\n",
    "\n",
    "  def old_say_hello(self):\n",
    "    super().say_hello()\n",
    "\n",
    "harold = Person(\"Harold\", 19, \"Butcher\")\n",
    "hero = Superhero(\"Spider-Man\", 17, \"student\")\n",
    "harold.say_hello()\n",
    "hero.say_hello()\n",
    "hero.old_say_hello()"
   ],
   "metadata": {
    "collapsed": false,
    "pycharm": {
     "name": "#%%\n"
    }
   }
  },
  {
   "cell_type": "markdown",
   "source": [],
   "metadata": {
    "collapsed": false,
    "pycharm": {
     "name": "#%% md\n"
    }
   }
  },
  {
   "cell_type": "markdown",
   "source": [
    "Multiple Inheritance"
   ],
   "metadata": {
    "collapsed": false,
    "pycharm": {
     "name": "#%% md\n"
    }
   }
  },
  {
   "cell_type": "code",
   "execution_count": 22,
   "outputs": [
    {
     "name": "stdout",
     "output_type": "stream",
     "text": [
      "Error: __init__() takes 3 positional arguments but 4 were given\n",
      "12\n",
      "whatever it wants\n"
     ]
    }
   ],
   "source": [
    "class Dinosaur:\n",
    "  def __init__(self, size, weight):\n",
    "    self.size = size\n",
    "    self.weight = weight\n",
    "class Carnivore:\n",
    "  def __init__(self, diet):\n",
    "    self.diet = diet\n",
    "class Tyrannosaurus(Dinosaur, Carnivore):\n",
    "  pass\n",
    "\n",
    "try:\n",
    "    tiny = Tyrannosaurus(12, 14, \"whatever it wants\")\n",
    "except Exception as e:\n",
    "    print(\"Error:\", str(e))\n",
    "\n",
    "tiny = Tyrannosaurus(12, 14)\n",
    "print(tiny.size)\n",
    "\n",
    "class Tyrannosaurus(Dinosaur, Carnivore):\n",
    "  def __init__(self, size, weight, diet):\n",
    "    Dinosaur.__init__(self, size, weight)\n",
    "    Carnivore.__init__(self, diet)\n",
    "\n",
    "tiny = Tyrannosaurus(12, 14, \"whatever it wants\")\n",
    "print(tiny.diet)"
   ],
   "metadata": {
    "collapsed": false,
    "pycharm": {
     "name": "#%%\n"
    }
   }
  },
  {
   "cell_type": "markdown",
   "source": [
    "Multiple Inheritance Hierarchy"
   ],
   "metadata": {
    "collapsed": false,
    "pycharm": {
     "name": "#%% md\n"
    }
   }
  },
  {
   "cell_type": "code",
   "execution_count": 23,
   "outputs": [
    {
     "name": "stdout",
     "output_type": "stream",
     "text": [
      "True\n",
      "False\n",
      "True\n"
     ]
    }
   ],
   "source": [
    "print(isinstance(tiny, Tyrannosaurus))\n",
    "print(issubclass(Dinosaur, Tyrannosaurus))\n",
    "print(issubclass(Tyrannosaurus, Carnivore))"
   ],
   "metadata": {
    "collapsed": false,
    "pycharm": {
     "name": "#%%\n"
    }
   }
  },
  {
   "cell_type": "markdown",
   "source": [
    "Method resolution order (MRO): The way Python looks for methods in parent classes. This is relevant when the same method is defined in different parts of the hierarchy differently."
   ],
   "metadata": {
    "collapsed": false,
    "pycharm": {
     "name": "#%% md\n"
    }
   }
  },
  {
   "cell_type": "code",
   "execution_count": 24,
   "outputs": [
    {
     "name": "stdout",
     "output_type": "stream",
     "text": [
      "Hello from class C\n",
      "Hello from class A\n",
      "[<class '__main__.C'>, <class '__main__.A'>, <class '__main__.B'>, <class 'object'>]\n"
     ]
    }
   ],
   "source": [
    "class A:\n",
    "  def hello(self):\n",
    "    print(\"Hello from class A\")\n",
    "class B:\n",
    "  def hello(self):\n",
    "    print(\"Hello from class B\")\n",
    "class C(A, B):\n",
    "  def hello(self):\n",
    "    print(\"Hello from class C\")\n",
    "    super().hello()\n",
    "obj= C()\n",
    "obj.hello()\n",
    "print(C.mro())"
   ],
   "metadata": {
    "collapsed": false,
    "pycharm": {
     "name": "#%%\n"
    }
   }
  },
  {
   "cell_type": "markdown",
   "source": [],
   "metadata": {
    "collapsed": false,
    "pycharm": {
     "name": "#%% md\n"
    }
   }
  },
  {
   "cell_type": "markdown",
   "source": [
    "Polymorphism"
   ],
   "metadata": {
    "collapsed": false,
    "pycharm": {
     "name": "#%% md\n"
    }
   }
  },
  {
   "cell_type": "markdown",
   "source": [
    "Polymorphism: A single interface is applicable with different types"
   ],
   "metadata": {
    "collapsed": false,
    "pycharm": {
     "name": "#%% md\n"
    }
   }
  },
  {
   "cell_type": "code",
   "execution_count": 25,
   "outputs": [
    {
     "name": "stdout",
     "output_type": "stream",
     "text": [
      "15\n",
      "510\n"
     ]
    }
   ],
   "source": [
    "a = 5\n",
    "b = 10\n",
    "print(a + b)\n",
    "c = '5'\n",
    "d = '10'\n",
    "print(c + d)"
   ],
   "metadata": {
    "collapsed": false,
    "pycharm": {
     "name": "#%%\n"
    }
   }
  },
  {
   "cell_type": "markdown",
   "source": [
    "Method overwriting is a form of polymorphism, because you have two methods with the same name.\n",
    "\n",
    "Method overloading: A single method name that can take different sets of parameters.This is also a form of polymorphism"
   ],
   "metadata": {
    "collapsed": false,
    "pycharm": {
     "name": "#%% md\n"
    }
   }
  },
  {
   "cell_type": "code",
   "execution_count": 26,
   "outputs": [
    {
     "name": "stdout",
     "output_type": "stream",
     "text": [
      "0\n",
      "1\n",
      "3\n",
      "6\n"
     ]
    }
   ],
   "source": [
    "class TestClass:\n",
    "  def sum(self, a = None, b = None, c = None):\n",
    "    if a is not None and b is not None and c is not None:\n",
    "      return a + b + c\n",
    "    elif a is not None and b is not None:\n",
    "      return a + b\n",
    "    elif a is not None:\n",
    "      return a\n",
    "    else:\n",
    "      return 0\n",
    "    \n",
    "obj = TestClass()\n",
    "print(obj.sum())\n",
    "print(obj.sum(1))\n",
    "print(obj.sum(1, 2))\n",
    "print(obj.sum(1, 2, 3))"
   ],
   "metadata": {
    "collapsed": false,
    "pycharm": {
     "name": "#%%\n"
    }
   }
  },
  {
   "cell_type": "markdown",
   "source": [
    "Operator Overloading"
   ],
   "metadata": {
    "collapsed": false,
    "pycharm": {
     "name": "#%% md\n"
    }
   }
  },
  {
   "cell_type": "code",
   "execution_count": 27,
   "outputs": [
    {
     "name": "stdout",
     "output_type": "stream",
     "text": [
      "100\n",
      "120\n"
     ]
    }
   ],
   "source": [
    "class FinancialAccount:\n",
    "  def __init__(self, amount):\n",
    "    self.account = amount\n",
    "    \n",
    "class BankAccount(FinancialAccount):\n",
    "  def __add__(self, other):\n",
    "    return self.account + other.account\n",
    "\n",
    "ba = BankAccount(100)\n",
    "print(ba.account)\n",
    "ba.account += 20\n",
    "print(ba.account)"
   ],
   "metadata": {
    "collapsed": false,
    "pycharm": {
     "name": "#%%\n"
    }
   }
  },
  {
   "cell_type": "markdown",
   "source": [
    "Magic methods\n",
    "\n",
    "Dunder or Magic Methods: Methods with leading and trailing double underscores. __add__ would be pronounced \"dunder add\".\n",
    "\n",
    "+ object.__add__(self, other)\n",
    "- object.__sub__(self, other)\n",
    "* object.__mul__(self, other)\n",
    "/ object.__truediv__(self, other)\n",
    "// object.__floordiv__(self, other)\n",
    "< object.__lt__(self, other)\n",
    "<= object.__le__(self, other)\n",
    "== object.__eq__(self, other)\n",
    "!= object.__ne__(self, other)\n",
    "> object.__gt__(self, other)\n",
    ">= object.__ge__(self, other)\n",
    "\n",
    "\"If it walks like a duck and talks like a duck, then it must be a duck\"\n",
    "Duck Typing: Used to determine the suitability of an object not based on what it is, but based on what it does. It is also an example of polymorphism."
   ],
   "metadata": {
    "collapsed": false,
    "pycharm": {
     "name": "#%% md\n"
    }
   }
  },
  {
   "cell_type": "code",
   "execution_count": 28,
   "outputs": [
    {
     "name": "stdout",
     "output_type": "stream",
     "text": [
      "double\n",
      "Hey Jude is a hit song\n"
     ]
    }
   ],
   "source": [
    "import random\n",
    "class BaseballPlayer:  \n",
    "  def hit(self):\n",
    "    \"\"\"Generate a random integer 1 to 4 and return the type of \n",
    "hit\"\"\"\n",
    "    total_bases = random.randint(1, 4)\n",
    "    if total_bases == 1:\n",
    "      return \"single\"\n",
    "    elif total_bases == 2:\n",
    "      return \"double\"\n",
    "    elif total_bases == 3:\n",
    "      return \"triple\"\n",
    "    else:\n",
    "      return \"home run\"\n",
    "    \n",
    "class Song:\n",
    "  def __init__(self, title, ranking):\n",
    "    self.title = title\n",
    "    self.ranking = ranking\n",
    "    \n",
    "  def hit(self):\n",
    "    \"\"\"A song is a hit if it appeared in a top 40 chart\"\"\"\n",
    "    if self.ranking <= 40:\n",
    "      return f\"{self.title} is a hit song\"\n",
    "    else:\n",
    "      return f\"{self.title} is not a hit song\"\n",
    "def print_hit(obj): # Does not care if object has type Baseballplayer or Song, it only cares if the object has a hit method.\n",
    "  try: # Determine suitability of an object based on its functionality (its hit method), but allows you to handle an error without crashing a program.\n",
    "    print(obj.hit())\n",
    "  except AttributeError as e:\n",
    "    print(e)\n",
    "  \n",
    "my_player = BaseballPlayer()\n",
    "my_song = Song(\"Hey Jude\", 12)\n",
    "print_hit(my_player)\n",
    "print_hit(my_song)"
   ],
   "metadata": {
    "collapsed": false,
    "pycharm": {
     "name": "#%%\n"
    }
   }
  },
  {
   "cell_type": "markdown",
   "source": [
    "Advanced Topics"
   ],
   "metadata": {
    "collapsed": false,
    "pycharm": {
     "name": "#%% md\n"
    }
   }
  },
  {
   "cell_type": "markdown",
   "source": [
    "Advanced Topics\n",
    "\n",
    "Importing modules"
   ],
   "metadata": {
    "collapsed": false,
    "pycharm": {
     "name": "#%% md\n"
    }
   }
  },
  {
   "cell_type": "code",
   "execution_count": 29,
   "outputs": [],
   "source": [
    "# This file is the class definition\n",
    "class Employee:\n",
    "  def __init__(self, name, title):\n",
    "    self.name = name\n",
    "    self.title = title\n",
    "    \n",
    "  def display(self):\n",
    "    print(f'Employee: {self.name}')\n",
    "    print(f'Title: {self.title}')\n",
    "\n",
    "# Imagine this on a separate file\n",
    "# This file is the program\n",
    "# from class_definition import Employee\n",
    "# emp = class_definition.Employee(\"Marcia\", \"VP of Sales\")\n",
    "# emp.display()"
   ],
   "metadata": {
    "collapsed": false,
    "pycharm": {
     "name": "#%%\n"
    }
   }
  },
  {
   "cell_type": "markdown",
   "source": [
    "List of Objects"
   ],
   "metadata": {
    "collapsed": false,
    "pycharm": {
     "name": "#%% md\n"
    }
   }
  },
  {
   "cell_type": "code",
   "execution_count": 30,
   "outputs": [
    {
     "ename": "FileNotFoundError",
     "evalue": "[Errno 2] No such file or directory: 'code/advanced/apps.csv'",
     "output_type": "error",
     "traceback": [
      "\u001B[1;31m---------------------------------------------------------------------------\u001B[0m",
      "\u001B[1;31mFileNotFoundError\u001B[0m                         Traceback (most recent call last)",
      "Input \u001B[1;32mIn [30]\u001B[0m, in \u001B[0;36m<cell line: 15>\u001B[1;34m()\u001B[0m\n\u001B[0;32m     13\u001B[0m \u001B[38;5;66;03m#from app import App # Enable when in a different file\u001B[39;00m\n\u001B[0;32m     14\u001B[0m apps \u001B[38;5;241m=\u001B[39m []\n\u001B[1;32m---> 15\u001B[0m \u001B[38;5;28;01mwith\u001B[39;00m \u001B[38;5;28;43mopen\u001B[39;49m\u001B[43m(\u001B[49m\u001B[38;5;124;43m'\u001B[39;49m\u001B[38;5;124;43mcode/advanced/apps.csv\u001B[39;49m\u001B[38;5;124;43m'\u001B[39;49m\u001B[43m)\u001B[49m \u001B[38;5;28;01mas\u001B[39;00m csv_file:\n\u001B[0;32m     16\u001B[0m   csv_reader \u001B[38;5;241m=\u001B[39m reader(csv_file, delimiter\u001B[38;5;241m=\u001B[39m\u001B[38;5;124m'\u001B[39m\u001B[38;5;124m,\u001B[39m\u001B[38;5;124m'\u001B[39m)\n\u001B[0;32m     17\u001B[0m   \u001B[38;5;28mnext\u001B[39m(csv_reader)\n",
      "\u001B[1;31mFileNotFoundError\u001B[0m: [Errno 2] No such file or directory: 'code/advanced/apps.csv'"
     ]
    }
   ],
   "source": [
    "# define the App class\n",
    "class App:\n",
    "  def __init__(self, name, description, category):\n",
    "    self.name = name\n",
    "    self.description = description\n",
    "    self.category = category\n",
    "\n",
    "  def display(self):\n",
    "    print(f'{self.name} is a(n) {self.category} app that is {self.description}.')\n",
    "\n",
    "# list of objects\n",
    "from csv import reader\n",
    "#from app import App # Enable when in a different file\n",
    "apps = []\n",
    "with open('code/advanced/apps.csv') as csv_file:\n",
    "  csv_reader = reader(csv_file, delimiter=',')\n",
    "  next(csv_reader)\n",
    "  for name, description, category in csv_reader:\n",
    "    apps.append(App(name, description, category))\n",
    "\n",
    "for app in apps:\n",
    "  app.display()"
   ],
   "metadata": {
    "collapsed": false,
    "pycharm": {
     "name": "#%%\n"
    }
   }
  },
  {
   "cell_type": "markdown",
   "source": [
    "Composition\n",
    "\n",
    "Composition: A way to make a functional whole out of smaller parts. "
   ],
   "metadata": {
    "collapsed": false,
    "pycharm": {
     "name": "#%% md\n"
    }
   }
  },
  {
   "cell_type": "code",
   "execution_count": 31,
   "outputs": [
    {
     "name": "stdout",
     "output_type": "stream",
     "text": [
      "Vroom, vroom!\n"
     ]
    }
   ],
   "source": [
    "class Car:\n",
    "  def __init__(self, make, model, year, engine):\n",
    "    self.make = make\n",
    "    self.model = model\n",
    "    self.year = year\n",
    "    self.engine = engine\n",
    "    \n",
    "  def describe(self):\n",
    "    print(f'{self.year} {self.make} {self.model}')\n",
    "      \n",
    "  # def start(self):\n",
    "  #   self.engine.ignite() # This does not work! Composition is a one-way street\n",
    "          \n",
    "class Engine:\n",
    "  def __init__(self, configuration, displacement, horsepower, \n",
    "torque):\n",
    "    self.configuration = configuration\n",
    "    self.displacement = displacement\n",
    "    self.horsepower = horsepower\n",
    "    self.torque = torque\n",
    "    \n",
    "  def ignite(self):\n",
    "    print('Vroom, vroom!')\n",
    "my_engine = Engine(\"V8\", 5.8, 326, 344)\n",
    "my_car = Car(\"De Tomaso\", \"Pantera\", 1979, my_engine)\n",
    "my_car.engine.ignite()"
   ],
   "metadata": {
    "collapsed": false,
    "pycharm": {
     "name": "#%%\n"
    }
   }
  },
  {
   "cell_type": "markdown",
   "source": [
    "Use inheritance if there is an \"is a\" relationship, and use composition if there is a \"has a\" relationship.\n",
    "\n",
    "Representing an object as a string: str calls the repr by default, print calls the str by default. You are not defining but overwriting them:"
   ],
   "metadata": {
    "collapsed": false,
    "pycharm": {
     "name": "#%% md\n"
    }
   }
  },
  {
   "cell_type": "code",
   "execution_count": 32,
   "outputs": [
    {
     "name": "stdout",
     "output_type": "stream",
     "text": [
      "Rocky is a Pomeranian\n",
      "Dog(Rocky, Pomeranian)\n",
      "[Dog(Rocky, Pomeranian), Dog(Bullwinkle, Labrador Retriever)]\n"
     ]
    }
   ],
   "source": [
    "class Dog:\n",
    "  def __init__(self, name, breed):\n",
    "    self.name = name\n",
    "    self.breed = breed\n",
    "    \n",
    "  def __str__(self):\n",
    "    return f'{self.name} is a {self.breed}'\n",
    "    \n",
    "my_dog = Dog('Rocky', 'Pomeranian')\n",
    "print(my_dog)\n",
    "\n",
    "class Dog:\n",
    "  def __init__(self, name, breed):\n",
    "    self.name = name\n",
    "    self.breed = breed\n",
    "    \n",
    "  def __str__(self):\n",
    "    return f'{self.name} is a {self.breed}'\n",
    "  \n",
    "  def __repr__(self):\n",
    "    return f'Dog({self.name}, {self.breed})'\n",
    "    \n",
    "my_dog = Dog('Rocky', 'Pomeranian')\n",
    "print(repr(my_dog))\n",
    "\n",
    "class Dog:\n",
    "  def __init__(self, name, breed):\n",
    "    self.name = name\n",
    "    self.breed = breed\n",
    "    \n",
    "  def __repr__(self):\n",
    "    return f'Dog({self.name}, {self.breed})'\n",
    "    \n",
    "dogs = []\n",
    "dogs.append(Dog('Rocky', 'Pomeranian'))\n",
    "dogs.append(Dog('Bullwinkle', 'Labrador Retriever'))\n",
    "print(dogs)"
   ],
   "metadata": {
    "collapsed": false,
    "pycharm": {
     "name": "#%%\n"
    }
   }
  },
  {
   "cell_type": "markdown",
   "source": [],
   "metadata": {
    "collapsed": false,
    "pycharm": {
     "name": "#%% md\n"
    }
   }
  }
 ],
 "metadata": {
  "kernelspec": {
   "display_name": "Python 3",
   "language": "python",
   "name": "python3"
  },
  "language_info": {
   "codemirror_mode": {
    "name": "ipython",
    "version": 2
   },
   "file_extension": ".py",
   "mimetype": "text/x-python",
   "name": "python",
   "nbconvert_exporter": "python",
   "pygments_lexer": "ipython2",
   "version": "2.7.6"
  }
 },
 "nbformat": 4,
 "nbformat_minor": 0
}